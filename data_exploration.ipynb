{
 "cells": [
  {
   "cell_type": "code",
   "execution_count": null,
   "metadata": {},
   "outputs": [],
   "source": [
    "import os\n",
    "import pickle\n",
    "import numpy as np\n",
    "from PIL import Image\n",
    "from sklearn.model_selection import train_test_split\n",
    "from matplotlib import pyplot as plt"
   ]
  },
  {
   "cell_type": "code",
   "execution_count": null,
   "metadata": {},
   "outputs": [],
   "source": [
    "def load_data():\n",
    "    data = []\n",
    "    labels = []\n",
    "    for letter in os.listdir('asl_alphabet_train/asl_alphabet_train'):\n",
    "        print(letter)\n",
    "        for image in os.listdir('asl_alphabet_train/asl_alphabet_train/' + letter):\n",
    "            img = Image.open('asl_alphabet_train/asl_alphabet_train/' + letter + '/' + image)\n",
    "            img = np.array(img)\n",
    "            data.append(img)\n",
    "            labels.append(letter)\n",
    "    return np.array(data), np.array(labels)\n",
    "\n",
    "data, labels = load_data()\n"
   ]
  },
  {
   "cell_type": "code",
   "execution_count": null,
   "metadata": {},
   "outputs": [],
   "source": [
    "print('Data shape:', data.shape)\n",
    "print('Labels shape:', labels.shape)\n",
    "print('Unique labels:', np.unique(labels))"
   ]
  },
  {
   "cell_type": "code",
   "execution_count": null,
   "metadata": {},
   "outputs": [],
   "source": [
    "fig, axes = plt.subplots(5, 6, figsize=(10, 10))\n",
    "fig.suptitle('Examples for each label')\n",
    "for i, ax in enumerate(axes.flat):\n",
    "    ax.imshow(data[labels == np.unique(labels)[i]][0])\n",
    "    ax.axis('off')\n",
    "    ax.set_title(np.unique(labels)[i])\n",
    "    if i == 28:\n",
    "        break\n",
    "axes[4, 5].axis('off')\n",
    "plt.show()\n"
   ]
  },
  {
   "cell_type": "code",
   "execution_count": null,
   "metadata": {},
   "outputs": [],
   "source": [
    "# Preprocess the data\n",
    "from sklearn.preprocessing import LabelEncoder\n",
    "from keras.utils import to_categorical\n",
    "\n",
    "# Encode the labels\n",
    "label_encoder = LabelEncoder()\n",
    "labels = label_encoder.fit_transform(labels)\n",
    "labels = to_categorical(labels)\n",
    "\n",
    "np.save('data.npy', data)\n",
    "np.save('labels.npy', labels)"
   ]
  }
 ],
 "metadata": {
  "kernelspec": {
   "display_name": "torch-env",
   "language": "python",
   "name": "python3"
  },
  "language_info": {
   "codemirror_mode": {
    "name": "ipython",
    "version": 3
   },
   "file_extension": ".py",
   "mimetype": "text/x-python",
   "name": "python",
   "nbconvert_exporter": "python",
   "pygments_lexer": "ipython3",
   "version": "3.9.18"
  }
 },
 "nbformat": 4,
 "nbformat_minor": 2
}
